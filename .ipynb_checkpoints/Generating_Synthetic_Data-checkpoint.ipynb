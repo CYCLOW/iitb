{
 "cells": [
  {
   "cell_type": "markdown",
   "id": "retired-nomination",
   "metadata": {},
   "source": [
    "### Prerequisites\n",
    "* An Empty Image Folder : \"image_data\"\n",
    "* An Empty Text Folder : \"text_data\"\n",
    "* A Folder Containing Raw Data : \"raw_text_data\"\n",
    "* A Folder Containing Fonts : \"fonts\""
   ]
  },
  {
   "cell_type": "markdown",
   "id": "mighty-dressing",
   "metadata": {},
   "source": [
    "### Necessary Imports"
   ]
  },
  {
   "cell_type": "code",
   "execution_count": 8,
   "id": "attractive-convertible",
   "metadata": {},
   "outputs": [],
   "source": [
    "import glob\n",
    "import os\n",
    "import random\n",
    "import numpy as np\n",
    "from PIL import Image, ImageDraw, ImageFont"
   ]
  },
  {
   "cell_type": "markdown",
   "id": "administrative-bacon",
   "metadata": {},
   "source": [
    "#### Base Path"
   ]
  },
  {
   "cell_type": "code",
   "execution_count": 9,
   "id": "eligible-liquid",
   "metadata": {},
   "outputs": [],
   "source": [
    "path = 'C:\\\\Users\\\\tejas\\\\OneDrive\\\\Documents\\\\GitHub\\\\iitb\\\\synthetic_generator'"
   ]
  },
  {
   "cell_type": "code",
   "execution_count": 12,
   "id": "native-application",
   "metadata": {},
   "outputs": [
    {
     "data": {
      "text/plain": [
       "'C:\\\\Users\\\\tejas\\\\OneDrive\\\\Documents\\\\GitHub\\\\iitb\\\\synthetic_generator'"
      ]
     },
     "execution_count": 12,
     "metadata": {},
     "output_type": "execute_result"
    }
   ],
   "source": [
    "os.chdir(path)\n",
    "os.getcwd()"
   ]
  },
  {
   "cell_type": "markdown",
   "id": "patent-clone",
   "metadata": {},
   "source": [
    "#### Function For Generating Synthetic Data"
   ]
  },
  {
   "cell_type": "code",
   "execution_count": 13,
   "id": "dominant-combine",
   "metadata": {},
   "outputs": [],
   "source": [
    "def synthetic_data(xli,foname,font,tename,line,path):\n",
    "    if not os.path.exists(\"{}\\\\image_data\\\\{}\".format(path,foname)):\n",
    "        os.makedirs(\"{}\\\\image_data\\\\{}\".format(path,foname))\n",
    "        os.chdir(\"{}\\\\image_data\\\\{}\".format(path,foname))\n",
    "    os.chdir(\"{}\\\\image_data\\\\{}\".format(path,foname))\n",
    "    img = Image.new('RGB', (100, 20), color = (255, 255, 255))\n",
    "    fnt = ImageFont.truetype(\"{}\\\\fonts\\\\{}\".format(path,font), 15)\n",
    "    d = ImageDraw.Draw(img)\n",
    "    size_width, size_height = d.textsize(line, font=fnt)\n",
    "    d.text((size_width, size_height), line, font=fnt, fill=(255, 255, 0))\n",
    "    img1 = Image.new('RGB', (size_width, size_height), color = (255, 255, 255))\n",
    "    d1 = ImageDraw.Draw(img1)\n",
    "    d1.text((0,0), line, font=fnt, fill=(0, 0, 0))\n",
    "    img1.save(\"{}_{}_box_{}.png\".format(foname,tename,xli))\n",
    "    print(xli,foname,font,tename,line,path)"
   ]
  },
  {
   "cell_type": "markdown",
   "id": "instructional-honolulu",
   "metadata": {},
   "source": [
    "#### Function For Generating Synthetic Text"
   ]
  },
  {
   "cell_type": "code",
   "execution_count": 14,
   "id": "quality-nancy",
   "metadata": {},
   "outputs": [],
   "source": [
    "def synthetic_text(xli,tename,line,path):\n",
    "    os.chdir(\"{}\\\\text_data\".format(path))\n",
    "    stf = open(\"{}_line_no_{}.txt\".format(tename,xli), \"w\" ,encoding='utf8')\n",
    "    stf.write(line)\n",
    "    stf.close()\n",
    "    os.chdir(\"{}\\\\raw_text_data\".format(path))"
   ]
  },
  {
   "cell_type": "markdown",
   "id": "paperback-lawyer",
   "metadata": {},
   "source": [
    "#### Base Script To Call The Function"
   ]
  },
  {
   "cell_type": "code",
   "execution_count": 15,
   "id": "painted-imperial",
   "metadata": {},
   "outputs": [
    {
     "name": "stdout",
     "output_type": "stream",
     "text": [
      "Akshar Unicode \n",
      "\n",
      "mixdata-v1 \n",
      "\n",
      "0 Akshar Unicode Akshar Unicode.ttf mixdata-v1 सञ्जय O Sanjaya !  - Vocative Singular of the Masculine noun \n",
      " C:\\Users\\tejas\\OneDrive\\Documents\\GitHub\\iitb\\synthetic_generator\n"
     ]
    },
    {
     "ename": "TypeError",
     "evalue": "synthetic_text() takes 4 positional arguments but 6 were given",
     "output_type": "error",
     "traceback": [
      "\u001b[1;31m---------------------------------------------------------------------------\u001b[0m",
      "\u001b[1;31mTypeError\u001b[0m                                 Traceback (most recent call last)",
      "\u001b[1;32m<ipython-input-15-02b80b73a416>\u001b[0m in \u001b[0;36m<module>\u001b[1;34m\u001b[0m\n\u001b[0;32m     13\u001b[0m                 \u001b[1;31m# print(line)\u001b[0m\u001b[1;33m\u001b[0m\u001b[1;33m\u001b[0m\u001b[1;33m\u001b[0m\u001b[0m\n\u001b[0;32m     14\u001b[0m                 \u001b[0msynthetic_data\u001b[0m\u001b[1;33m(\u001b[0m\u001b[0mxli\u001b[0m\u001b[1;33m,\u001b[0m\u001b[0mfoname\u001b[0m\u001b[1;33m,\u001b[0m\u001b[0mfont\u001b[0m\u001b[1;33m,\u001b[0m\u001b[0mtename\u001b[0m\u001b[1;33m,\u001b[0m\u001b[0mline\u001b[0m\u001b[1;33m,\u001b[0m\u001b[0mpath\u001b[0m\u001b[1;33m)\u001b[0m\u001b[1;33m\u001b[0m\u001b[1;33m\u001b[0m\u001b[0m\n\u001b[1;32m---> 15\u001b[1;33m                 \u001b[0msynthetic_text\u001b[0m\u001b[1;33m(\u001b[0m\u001b[0mxli\u001b[0m\u001b[1;33m,\u001b[0m\u001b[0mfoname\u001b[0m\u001b[1;33m,\u001b[0m\u001b[0mfont\u001b[0m\u001b[1;33m,\u001b[0m\u001b[0mtename\u001b[0m\u001b[1;33m,\u001b[0m\u001b[0mline\u001b[0m\u001b[1;33m,\u001b[0m\u001b[0mpath\u001b[0m\u001b[1;33m)\u001b[0m\u001b[1;33m\u001b[0m\u001b[1;33m\u001b[0m\u001b[0m\n\u001b[0m\u001b[0;32m     16\u001b[0m         \u001b[0mos\u001b[0m\u001b[1;33m.\u001b[0m\u001b[0mchdir\u001b[0m\u001b[1;33m(\u001b[0m\u001b[1;34m\"{}\\\\fonts\"\u001b[0m\u001b[1;33m.\u001b[0m\u001b[0mformat\u001b[0m\u001b[1;33m(\u001b[0m\u001b[0mpath\u001b[0m\u001b[1;33m)\u001b[0m\u001b[1;33m)\u001b[0m\u001b[1;33m\u001b[0m\u001b[1;33m\u001b[0m\u001b[0m\n",
      "\u001b[1;31mTypeError\u001b[0m: synthetic_text() takes 4 positional arguments but 6 were given"
     ]
    }
   ],
   "source": [
    "os.chdir(\"{}\\\\fonts\".format(path))\n",
    "for xfo,font in enumerate(glob.glob(\"*.ttf\")):\n",
    "    foname = font.split(\".\")[0]\n",
    "    print(foname,\"\\n\")\n",
    "    os.chdir(\"{}\\\\raw_text_data\".format(path))\n",
    "    for xte,file in enumerate(glob.glob(\"*.txt\")):\n",
    "        os.chdir(\"{}\\\\raw_text_data\".format(path))\n",
    "        with open(file, 'r' , encoding=\"utf8\") as f:\n",
    "            tename = file.split(\".\")[0]\n",
    "            # checkpoint\n",
    "            print(tename,\"\\n\")\n",
    "            for xli,line in enumerate(f):\n",
    "                # print(line)\n",
    "                synthetic_data(xli,foname,font,tename,line,path)\n",
    "                synthetic_text(xli,tename,line,path)\n",
    "        os.chdir(\"{}\\\\fonts\".format(path))"
   ]
  },
  {
   "cell_type": "markdown",
   "id": "enhanced-techno",
   "metadata": {},
   "source": [
    "#### Note: When All The Raw Files Gets Printed The Data is Populated In Respective Directory"
   ]
  }
 ],
 "metadata": {
  "kernelspec": {
   "display_name": "Python 3",
   "language": "python",
   "name": "python3"
  },
  "language_info": {
   "codemirror_mode": {
    "name": "ipython",
    "version": 3
   },
   "file_extension": ".py",
   "mimetype": "text/x-python",
   "name": "python",
   "nbconvert_exporter": "python",
   "pygments_lexer": "ipython3",
   "version": "3.7.9"
  }
 },
 "nbformat": 4,
 "nbformat_minor": 5
}
