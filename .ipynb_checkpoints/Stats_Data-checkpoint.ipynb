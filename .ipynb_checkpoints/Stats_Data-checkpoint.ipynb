{
 "cells": [
  {
   "cell_type": "markdown",
   "id": "boolean-hamburg",
   "metadata": {},
   "source": [
    "### Necessary Imports"
   ]
  },
  {
   "cell_type": "code",
   "execution_count": 7,
   "id": "korean-falls",
   "metadata": {},
   "outputs": [],
   "source": [
    "import glob\n",
    "import os\n",
    "import statistics as st\n",
    "import numpy as np"
   ]
  },
  {
   "cell_type": "markdown",
   "id": "finished-universal",
   "metadata": {},
   "source": [
    "### Change Directory For Data"
   ]
  },
  {
   "cell_type": "code",
   "execution_count": 2,
   "id": "isolated-indianapolis",
   "metadata": {},
   "outputs": [],
   "source": [
    "# path = os.getcwd()\n",
    "# os.chdir(path + \"\\check\")"
   ]
  },
  {
   "cell_type": "markdown",
   "id": "palestinian-oregon",
   "metadata": {},
   "source": [
    "### Append File Names"
   ]
  },
  {
   "cell_type": "code",
   "execution_count": 3,
   "id": "green-wednesday",
   "metadata": {},
   "outputs": [],
   "source": [
    "fnames = []\n",
    "for file in glob.glob(\"*.txt\"):\n",
    "    fnames.append(file)"
   ]
  },
  {
   "cell_type": "markdown",
   "id": "diagnostic-metadata",
   "metadata": {},
   "source": [
    "### Code For Generating Mean & Standard Deviation"
   ]
  },
  {
   "cell_type": "markdown",
   "id": "static-crazy",
   "metadata": {},
   "source": [
    "###### Steps:\n",
    "1. Iterates each file.\n",
    "2. Iterates each line.\n",
    "3. Creates a list of words present in the file.\n",
    "4. Iterates through the list of words.\n",
    "5. Appends length of each word in a list named \"len_word\" .\n",
    "6. Calculates Mean and Standard Deviation for the above list."
   ]
  },
  {
   "cell_type": "code",
   "execution_count": 17,
   "id": "sitting-donor",
   "metadata": {},
   "outputs": [
    {
     "name": "stdout",
     "output_type": "stream",
     "text": [
      "Mean : 6.22 \n",
      "Standard Deviation : 4 \n",
      "Weighted Average : 8.88 \n"
     ]
    }
   ],
   "source": [
    "len_word = []\n",
    "\n",
    "for i in range(len(fnames)):\n",
    "    with open(fnames[i], 'r') as f:\n",
    "        for line in f:\n",
    "            words = line.split()\n",
    "            for word in words:\n",
    "                len_word.append(len(word))\n",
    "\n",
    "weighted_avg = np.average(len_word, weights=len_word)\n",
    "\n",
    "print(\"Mean : {} \".format(round(st.mean(len_word),2)))\n",
    "\n",
    "print(\"Standard Deviation : {} \".format(round(st.stdev(len_word))))\n",
    "\n",
    "print(\"Weighted Average : {} \".format(round(weighted_avg,2)))"
   ]
  },
  {
   "cell_type": "code",
   "execution_count": null,
   "id": "sound-stage",
   "metadata": {},
   "outputs": [],
   "source": []
  },
  {
   "cell_type": "code",
   "execution_count": null,
   "id": "rotary-statement",
   "metadata": {},
   "outputs": [],
   "source": []
  }
 ],
 "metadata": {
  "kernelspec": {
   "display_name": "Python 3",
   "language": "python",
   "name": "python3"
  },
  "language_info": {
   "codemirror_mode": {
    "name": "ipython",
    "version": 3
   },
   "file_extension": ".py",
   "mimetype": "text/x-python",
   "name": "python",
   "nbconvert_exporter": "python",
   "pygments_lexer": "ipython3",
   "version": "3.8.5"
  }
 },
 "nbformat": 4,
 "nbformat_minor": 5
}
