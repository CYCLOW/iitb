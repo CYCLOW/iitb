{
 "cells": [
  {
   "cell_type": "markdown",
   "id": "boolean-hamburg",
   "metadata": {},
   "source": [
    "### Necessary Imports"
   ]
  },
  {
   "cell_type": "code",
   "execution_count": 83,
   "id": "korean-falls",
   "metadata": {},
   "outputs": [],
   "source": [
    "import glob\n",
    "import os\n",
    "import xlsxwriter\n",
    "import statistics as st\n",
    "import numpy as np\n",
    "import pandas as pd\n",
    "from collections import Counter"
   ]
  },
  {
   "cell_type": "code",
   "execution_count": null,
   "id": "alternative-stamp",
   "metadata": {},
   "outputs": [],
   "source": []
  },
  {
   "cell_type": "code",
   "execution_count": 232,
   "id": "brown-queue",
   "metadata": {},
   "outputs": [],
   "source": [
    "def writeExcel(directory,fnames,mean,std_dev,we_avg):\n",
    "    path = 'C:\\\\Users\\\\tejas\\\\OneDrive\\\\Documents\\\\GitHub\\\\iitb'\n",
    "    os.chdir(\"{}\".format(path))\n",
    "    \n",
    "    workbook = xlsxwriter.Workbook('book_data_stats.xlsx')\n",
    "    \n",
    "    worksheet = workbook.add_worksheet('{}'.format(directory))\n",
    "    \n",
    "    worksheet.write('A1', 'File_Names')\n",
    "    worksheet.write('B1', 'Mean')\n",
    "    worksheet.write('C1', 'Standard_Deviation')\n",
    "    worksheet.write('D1', 'Weighted_Average')\n",
    "    worksheet.set_column('A:A', 25)\n",
    "    worksheet.set_column('B:B', 25)\n",
    "    worksheet.set_column('C:C', 25)\n",
    "    worksheet.set_column('D:D', 25)\n",
    "        \n",
    "    print(directory)\n",
    "    for i in range(len(fnames)):\n",
    "        print(fnames[i])\n",
    "    print(mean)\n",
    "    print(std_dev)\n",
    "    print(we_avg)\n",
    "    \n",
    "    for i in range(len(fnames)):\n",
    "        if i == len(fnames):\n",
    "            worksheet.write('A{}'.format(i+2), fnames[i-1])\n",
    "        worksheet.write('A{}'.format(i+2),fnames[i])\n",
    "#                 worksheet.write(row, col + 1, mean)\n",
    "#                 worksheet.write(row, col + 2, std_dev)\n",
    "#                 worksheet.write(row, col + 3, we_avg)                \n",
    "#                 row += 1\n",
    "                \n",
    "    \n",
    "    workbook.close()"
   ]
  },
  {
   "cell_type": "markdown",
   "id": "diagnostic-metadata",
   "metadata": {},
   "source": [
    "### Code For Generating Mean & Standard Deviation"
   ]
  },
  {
   "cell_type": "markdown",
   "id": "static-crazy",
   "metadata": {},
   "source": [
    "###### Steps:\n",
    "1. Iterates each file.\n",
    "2. Iterates each line.\n",
    "3. Creates a list of words present in the file.\n",
    "4. Iterates through the list of words.\n",
    "5. Appends length of each word in a list named \"len_word\" .\n",
    "6. Calculates Mean and Standard Deviation for the above list.\n",
    "7. Calculates Weighted Average For Each Word Traversed."
   ]
  },
  {
   "cell_type": "code",
   "execution_count": 230,
   "id": "sitting-donor",
   "metadata": {},
   "outputs": [],
   "source": [
    "def calculateStatsData(directory,fnames):\n",
    "    mean = []\n",
    "    std_dev = []\n",
    "    we_avg = []\n",
    "    for i in range(len(fnames)):\n",
    "#         print(fnames[i])\n",
    "        with open(fnames[i], 'r' , encoding=\"utf8\") as f:\n",
    "            len_word = []\n",
    "            for line in f:\n",
    "                words = line.split()\n",
    "                if len(words) == 0:\n",
    "                    continue\n",
    "                words.pop(0)\n",
    "                for word in words:\n",
    "                    len_word.append(len(word))\n",
    "            # Calculating Mean\n",
    "            mean.append(round(st.mean(len_word),2))\n",
    "            # Calculating Standard Deviation\n",
    "            std_dev.append(round(st.stdev(len_word),2))\n",
    "            # Segregating values and their weights\n",
    "            len_word.sort()\n",
    "            df = pd.DataFrame([[x,len_word.count(x)] for x in set(len_word)], columns = ['values','weights'])\n",
    "            # Calculating Weighted Average\n",
    "            we_avg.append(round(np.average(df['values'], weights=df['weights']),2))\n",
    "    \n",
    "#     print(directory)\n",
    "#     print(fnames)\n",
    "#     print(mean)\n",
    "#     print(std_dev)\n",
    "#     print(we_avg)\n",
    "    \n",
    "    writeExcel(directory,fnames,mean,std_dev,we_avg)\n",
    "    "
   ]
  },
  {
   "cell_type": "markdown",
   "id": "finished-universal",
   "metadata": {},
   "source": [
    "### Change Directory For Data"
   ]
  },
  {
   "cell_type": "code",
   "execution_count": 231,
   "id": "isolated-indianapolis",
   "metadata": {},
   "outputs": [
    {
     "name": "stdout",
     "output_type": "stream",
     "text": [
      "attention\n",
      "a_sample.txt\n",
      "mix_output_attention.txt\n",
      "only_english_output.txt\n",
      "only_sanskrit_output.txt\n",
      "[1, 7.92, 12.95, 8.39]\n",
      "[0.0, 15.0, 35.29, 7.2]\n",
      "[1.0, 7.92, 12.95, 8.39]\n",
      "input\n",
      "mix_output_input.txt\n",
      "only_english_output.txt\n",
      "only_sanskrit_output.txt\n",
      "[4.84, 5.05, 8.14]\n",
      "[4.27, 3.2, 6.99]\n",
      "[4.84, 5.05, 8.14]\n",
      "tesseract\n",
      "mix_output_tesseract.txt\n",
      "only_english_output.txt\n",
      "only_sanskrit_output.txt\n",
      "[4.69, 5.02, 7.61]\n",
      "[3.96, 3.15, 6.36]\n",
      "[4.69, 5.02, 7.61]\n"
     ]
    }
   ],
   "source": [
    "path = 'C:\\\\Users\\\\tejas\\\\OneDrive\\\\Documents\\\\GitHub\\\\iitb'\n",
    "if path != 'C:\\\\Users\\\\tejas\\\\OneDrive\\\\Documents\\\\GitHub\\\\iitb\\\\book_data':\n",
    "    os.chdir(\"{}\\\\book_data\".format(path))\n",
    "    path = os.getcwd()\n",
    "data = os.walk('.')\n",
    "dnames = []\n",
    "\n",
    "for root, directories, files in data:\n",
    "    \n",
    "    for directory in directories:\n",
    "        fnames = []\n",
    "#         print(directory)\n",
    "        dnames.append(directory)\n",
    "        os.chdir(\"{}\\\\{}\".format(path,directory))\n",
    "        data = os.walk('.')\n",
    "        for root, directories, files in data:\n",
    "            for file in glob.glob(\"*.txt\"):\n",
    "                fnames.append(file)\n",
    "#         print(fnames)\n",
    "        calculateStatsData(directory,fnames)"
   ]
  },
  {
   "cell_type": "code",
   "execution_count": null,
   "id": "international-argument",
   "metadata": {},
   "outputs": [],
   "source": []
  }
 ],
 "metadata": {
  "kernelspec": {
   "display_name": "Python 3",
   "language": "python",
   "name": "python3"
  },
  "language_info": {
   "codemirror_mode": {
    "name": "ipython",
    "version": 3
   },
   "file_extension": ".py",
   "mimetype": "text/x-python",
   "name": "python",
   "nbconvert_exporter": "python",
   "pygments_lexer": "ipython3",
   "version": "3.8.5"
  }
 },
 "nbformat": 4,
 "nbformat_minor": 5
}
