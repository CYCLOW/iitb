{
 "cells": [
  {
   "cell_type": "markdown",
   "id": "union-disposition",
   "metadata": {},
   "source": [
    "### Prerequisites\n",
    "* An Empty Image Folder : \"image_data\"\n",
    "* A Folder Containing Raw Data : \"raw_text_data\""
   ]
  },
  {
   "cell_type": "markdown",
   "id": "square-nickname",
   "metadata": {},
   "source": [
    "### Necessary Imports"
   ]
  },
  {
   "cell_type": "code",
   "execution_count": 1,
   "id": "italic-salem",
   "metadata": {},
   "outputs": [],
   "source": [
    "import glob\n",
    "import os\n",
    "from PIL import Image, ImageDraw, ImageFont"
   ]
  },
  {
   "cell_type": "markdown",
   "id": "experienced-snowboard",
   "metadata": {},
   "source": [
    "#### Base Path"
   ]
  },
  {
   "cell_type": "code",
   "execution_count": 2,
   "id": "crude-japanese",
   "metadata": {},
   "outputs": [],
   "source": [
    "path = 'C:\\\\Users\\\\tejas\\\\OneDrive\\\\Documents\\\\GitHub\\\\iitb'"
   ]
  },
  {
   "cell_type": "markdown",
   "id": "emerging-warehouse",
   "metadata": {},
   "source": [
    "#### Function For Generating Synthetic Data"
   ]
  },
  {
   "cell_type": "code",
   "execution_count": 3,
   "id": "dangerous-mexican",
   "metadata": {},
   "outputs": [],
   "source": [
    "def synthetic_data(x,fname,text,path):\n",
    "    os.chdir(\"{}\\\\image_data\".format(path))\n",
    "    img = Image.new('RGB', (100, 20), color = (255, 255, 255))\n",
    "    fnt = ImageFont.truetype(\"{}\\\\fonts\\\\Akshar Unicode.ttf\".format(path), 15)\n",
    "    d = ImageDraw.Draw(img)\n",
    "    size_width, size_height = d.textsize(text, font=fnt)\n",
    "    d.text((size_width, size_height), text, font=fnt, fill=(255, 255, 0))\n",
    "    img1 = Image.new('RGB', (size_width, size_height), color = (255, 255, 255))\n",
    "    d1 = ImageDraw.Draw(img1)\n",
    "    d1.text((0,0), text, font=fnt, fill=(0, 0, 0))\n",
    "    img1.save(\"{}_box_{}.png\".format(fname,x))\n",
    "    os.chdir(\"{}\\\\raw_text_data\".format(path))\n",
    "#     print(text)\n",
    "#     print(os.getcwd())"
   ]
  },
  {
   "cell_type": "markdown",
   "id": "union-baptist",
   "metadata": {},
   "source": [
    "#### Base Script To Call The Function"
   ]
  },
  {
   "cell_type": "code",
   "execution_count": 17,
   "id": "regional-washer",
   "metadata": {},
   "outputs": [
    {
     "name": "stdout",
     "output_type": "stream",
     "text": [
      "mixdata-v1\n",
      "mixdata-v2\n",
      "mixdata-v3\n",
      "mixdata-v4\n",
      "mixdata-v5\n",
      "mixdata-v6\n"
     ]
    }
   ],
   "source": [
    "if path != \"{}\\\\raw_text_data\".format(path):\n",
    "    os.chdir(\"{}\\\\raw_text_data\".format(path))\n",
    "for x,file in enumerate(glob.glob(\"*.txt\")):\n",
    "    with open(file, 'r' , encoding=\"utf8\") as f:\n",
    "        name = file.split(\".\")[0]\n",
    "#         checkpoint\n",
    "        print(name)\n",
    "        for x,line in enumerate(f):\n",
    "            synthetic_data(x,name,line,path)"
   ]
  },
  {
   "cell_type": "markdown",
   "id": "standard-sweden",
   "metadata": {},
   "source": [
    "#### Note: When All The Raw Files Gets Printed The Data is Populated In Respective Directory"
   ]
  }
 ],
 "metadata": {
  "kernelspec": {
   "display_name": "Python 3",
   "language": "python",
   "name": "python3"
  },
  "language_info": {
   "codemirror_mode": {
    "name": "ipython",
    "version": 3
   },
   "file_extension": ".py",
   "mimetype": "text/x-python",
   "name": "python",
   "nbconvert_exporter": "python",
   "pygments_lexer": "ipython3",
   "version": "3.8.5"
  }
 },
 "nbformat": 4,
 "nbformat_minor": 5
}
