{
 "cells": [
  {
   "cell_type": "markdown",
   "id": "boolean-hamburg",
   "metadata": {},
   "source": [
    "### Necessary Imports"
   ]
  },
  {
   "cell_type": "code",
   "execution_count": 33,
   "id": "korean-falls",
   "metadata": {},
   "outputs": [],
   "source": [
    "import glob\n",
    "import os\n",
    "import statistics as st\n",
    "import numpy as np\n",
    "import pandas as pd\n",
    "from collections import Counter"
   ]
  },
  {
   "cell_type": "markdown",
   "id": "finished-universal",
   "metadata": {},
   "source": [
    "### Change Directory For Data"
   ]
  },
  {
   "cell_type": "code",
   "execution_count": 12,
   "id": "isolated-indianapolis",
   "metadata": {},
   "outputs": [],
   "source": [
    "# path = os.getcwd()\n",
    "# os.chdir(path + \"\\check\")"
   ]
  },
  {
   "cell_type": "markdown",
   "id": "palestinian-oregon",
   "metadata": {},
   "source": [
    "### Append File Names"
   ]
  },
  {
   "cell_type": "code",
   "execution_count": 13,
   "id": "green-wednesday",
   "metadata": {},
   "outputs": [],
   "source": [
    "fnames = []\n",
    "for file in glob.glob(\"*.txt\"):\n",
    "    fnames.append(file)"
   ]
  },
  {
   "cell_type": "markdown",
   "id": "diagnostic-metadata",
   "metadata": {},
   "source": [
    "### Code For Generating Mean & Standard Deviation"
   ]
  },
  {
   "cell_type": "markdown",
   "id": "static-crazy",
   "metadata": {},
   "source": [
    "###### Steps:\n",
    "1. Iterates each file.\n",
    "2. Iterates each line.\n",
    "3. Creates a list of words present in the file.\n",
    "4. Iterates through the list of words.\n",
    "5. Appends length of each word in a list named \"len_word\" .\n",
    "6. Calculates Mean and Standard Deviation for the above list.\n",
    "7. Calculates Weighted Average For Each Word Traversed."
   ]
  },
  {
   "cell_type": "code",
   "execution_count": 60,
   "id": "sitting-donor",
   "metadata": {},
   "outputs": [
    {
     "name": "stdout",
     "output_type": "stream",
     "text": [
      "    values  weights\n",
      "0        1        3\n",
      "1        2       13\n",
      "2        3       12\n",
      "3        4        3\n",
      "4        5        4\n",
      "5        6        8\n",
      "6        7        2\n",
      "7        8        5\n",
      "8        9        6\n",
      "9       10        4\n",
      "10      11        6\n",
      "11      12        1\n",
      "12      13        1\n",
      "13      14        1\n",
      "14      15        1\n",
      "15      17        1\n",
      "16      18        1\n",
      "Mean : 6.22 \n",
      "Standard Deviation : 4.09 \n",
      "Weighted Average : 6.22 \n"
     ]
    }
   ],
   "source": [
    "len_word = []\n",
    "\n",
    "for i in range(len(fnames)):\n",
    "    with open(fnames[i], 'r') as f:\n",
    "        for line in f:\n",
    "            words = line.split()\n",
    "            for word in words:\n",
    "                len_word.append(len(word))\n",
    "\n",
    "# Calculating Mean\n",
    "mean = round(st.mean(len_word),2)\n",
    "\n",
    "# Calculating Standard Deviation\n",
    "stdev = round(st.stdev(len_word),2)\n",
    "\n",
    "# Segregating values and their weights\n",
    "len_word.sort()\n",
    "df = pd.DataFrame([[x,len_word.count(x)] for x in set(len_word)], columns = ['values', 'weights'])\n",
    "\n",
    "print(df)\n",
    "\n",
    "# Calculating Weighted Average\n",
    "weighted_avg = np.average(df['values'], weights=df['weights'])\n",
    "\n",
    "print(\"Mean : {} \".format(mean))\n",
    "\n",
    "print(\"Standard Deviation : {} \".format(stdev))\n",
    "\n",
    "print(\"Weighted Average : {} \".format(round(weighted_avg,2)))"
   ]
  },
  {
   "cell_type": "markdown",
   "id": "severe-centre",
   "metadata": {},
   "source": []
  }
 ],
 "metadata": {
  "kernelspec": {
   "display_name": "Python 3",
   "language": "python",
   "name": "python3"
  },
  "language_info": {
   "codemirror_mode": {
    "name": "ipython",
    "version": 3
   },
   "file_extension": ".py",
   "mimetype": "text/x-python",
   "name": "python",
   "nbconvert_exporter": "python",
   "pygments_lexer": "ipython3",
   "version": "3.8.5"
  }
 },
 "nbformat": 4,
 "nbformat_minor": 5
}
